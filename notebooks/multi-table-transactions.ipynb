{
 "cells": [
  {
   "cell_type": "markdown",
   "id": "0473795a",
   "metadata": {},
   "source": [
    "### Import libraries"
   ]
  },
  {
   "cell_type": "code",
   "execution_count": null,
   "id": "d62b63eb",
   "metadata": {},
   "outputs": [],
   "source": [
    "import polars as pl\n",
    "import os\n",
    "from deltalake import DeltaTable\n",
    "from lakefs import Repository\n",
    "from lakefs.client import Client\n",
    "from dotenv import load_dotenv\n",
    "\n",
    "load_dotenv()"
   ]
  },
  {
   "cell_type": "markdown",
   "id": "9e4d8481",
   "metadata": {},
   "source": [
    "### Configure lakefs client, storage options"
   ]
  },
  {
   "cell_type": "code",
   "execution_count": null,
   "id": "dd376b28",
   "metadata": {},
   "outputs": [],
   "source": [
    "lakefs_endpoint = \"http://127.0.0.1:8000\"\n",
    "\n",
    "lakefs_client = Client(\n",
    "    host=lakefs_endpoint,\n",
    "    username=os.environ[\"LAKEFS_ACCESS_KEY\"],\n",
    "    password=os.environ[\"LAKEFS_SECRET_ACCESS_KEY\"],\n",
    ")\n",
    "storage_options={\n",
    "        \"access_key_id\": os.environ[\"LAKEFS_ACCESS_KEY\"], \n",
    "        \"secret_access_key\": os.environ[\"LAKEFS_SECRET_ACCESS_KEY\"], \n",
    "        \"endpoint\":lakefs_endpoint,\n",
    "        \"allow_http\": \"true\",\n",
    "        }\n",
    "\n",
    "bronze_repo = Repository(\"bronze\", client=lakefs_client)\n",
    "# silver_repo = Repository(\"silver\", client=lakefs_client)\n",
    "# gold_repo = Repository(\"gold\", client=lakefs_client)"
   ]
  },
  {
   "cell_type": "markdown",
   "id": "7cbc5250",
   "metadata": {},
   "source": [
    "### Create lakefs branch"
   ]
  },
  {
   "cell_type": "code",
   "execution_count": null,
   "id": "740ea626",
   "metadata": {},
   "outputs": [],
   "source": [
    "bronze_repo.branch(\"feat-multi-table-transactions\").create(source_reference=\"main\", exist_ok=True)"
   ]
  },
  {
   "cell_type": "markdown",
   "id": "071a9393",
   "metadata": {},
   "source": [
    "### Write multiple tables"
   ]
  },
  {
   "cell_type": "code",
   "execution_count": null,
   "id": "a61a71ec",
   "metadata": {},
   "outputs": [],
   "source": [
    "first_table = pl.DataFrame({\"foo\": [1,2,3,4,5], \"bar\": [\"delta-rs\", \"is\", \"pretty\",\"awesome\", \"ey\"]})\n",
    "second_table = pl.DataFrame({\"foo\": [10,11,12,13,14], \"bar\": [\"delta-rs\", \"is\", \"pretty\",\"awesome\", \"ey\"]})\n",
    "\n",
    "first_table.write_delta(\n",
    "    \"lakefs://bronze/feat-multi-table-transactions/first_table\", \n",
    "    storage_options=storage_options,\n",
    "    mode='overwrite',\n",
    ")\n",
    "second_table.write_delta(\n",
    "    \"lakefs://bronze/feat-multi-table-transactions/second_table\", \n",
    "    storage_options=storage_options,\n",
    "    mode='overwrite'\n",
    ")"
   ]
  },
  {
   "cell_type": "markdown",
   "id": "c2917caa",
   "metadata": {},
   "source": [
    "### Merge as single lakefs commit into `main`"
   ]
  },
  {
   "cell_type": "code",
   "execution_count": null,
   "id": "e9ba224e",
   "metadata": {},
   "outputs": [],
   "source": [
    "bronze_repo.branch(\"feat-multi-table-transactions\").merge_into(\"main\", squash_merge=True, message=\"merging table 1 and table 2 as multi-table-transaction\")"
   ]
  },
  {
   "cell_type": "code",
   "execution_count": null,
   "id": "f027b7f4",
   "metadata": {},
   "outputs": [],
   "source": [
    "bronze_repo.branch(\"main\").revert(reference=\"94f92ebf3c7bfed1a5ff403885c61b8147f2ed1ba312c5e0e0c26197994bdfe2\")"
   ]
  },
  {
   "cell_type": "code",
   "execution_count": null,
   "id": "63debac4",
   "metadata": {},
   "outputs": [],
   "source": []
  }
 ],
 "metadata": {
  "kernelspec": {
   "display_name": ".venv",
   "language": "python",
   "name": "python3"
  },
  "language_info": {
   "codemirror_mode": {
    "name": "ipython",
    "version": 3
   },
   "file_extension": ".py",
   "mimetype": "text/x-python",
   "name": "python",
   "nbconvert_exporter": "python",
   "pygments_lexer": "ipython3",
   "version": "3.12.9"
  }
 },
 "nbformat": 4,
 "nbformat_minor": 5
}
