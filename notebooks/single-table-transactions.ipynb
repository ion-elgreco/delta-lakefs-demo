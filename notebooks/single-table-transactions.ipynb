{
 "cells": [
  {
   "cell_type": "markdown",
   "id": "5ddfa6e3",
   "metadata": {},
   "source": [
    "### Import libraries"
   ]
  },
  {
   "cell_type": "code",
   "execution_count": 1,
   "id": "d62b63eb",
   "metadata": {},
   "outputs": [
    {
     "data": {
      "text/plain": [
       "True"
      ]
     },
     "execution_count": 1,
     "metadata": {},
     "output_type": "execute_result"
    }
   ],
   "source": [
    "import polars as pl\n",
    "import os\n",
    "from deltalake import DeltaTable\n",
    "from lakefs import Repository\n",
    "from lakefs.client import Client\n",
    "from dotenv import load_dotenv\n",
    "\n",
    "load_dotenv()"
   ]
  },
  {
   "cell_type": "markdown",
   "id": "660bf04e",
   "metadata": {},
   "source": [
    "### Configure lakefs client, storage options"
   ]
  },
  {
   "cell_type": "code",
   "execution_count": null,
   "id": "dd376b28",
   "metadata": {},
   "outputs": [],
   "source": [
    "lakefs_endpoint = \"http://127.0.0.1:8000\"\n",
    "lakefs_client = Client(\n",
    "    host=lakefs_endpoint,\n",
    "    username=os.environ[\"LAKEFS_ACCESS_KEY\"],\n",
    "    password=os.environ[\"LAKEFS_SECRET_ACCESS_KEY\"],\n",
    ")\n",
    "storage_options = {\n",
    "        \"access_key_id\": os.environ[\"LAKEFS_ACCESS_KEY\"], \n",
    "        \"secret_access_key\": os.environ[\"LAKEFS_SECRET_ACCESS_KEY\"], \n",
    "        \"endpoint\":lakefs_endpoint,\n",
    "        \"allow_http\": \"true\",\n",
    "        }\n",
    "bronze_repo = Repository(\"bronze\", client=lakefs_client)\n",
    "# silver_repo = Repository(\"silver\", client=lakefs_client)\n",
    "# gold_repo = Repository(\"gold\", client=lakefs_client)"
   ]
  },
  {
   "cell_type": "markdown",
   "id": "5866ee09",
   "metadata": {},
   "source": [
    "### Create lakefs branch"
   ]
  },
  {
   "cell_type": "code",
   "execution_count": 3,
   "id": "740ea626",
   "metadata": {},
   "outputs": [
    {
     "data": {
      "text/plain": [
       "Branch(repository=\"bronze\", id=\"feat-new-cool-feature\")"
      ]
     },
     "execution_count": 3,
     "metadata": {},
     "output_type": "execute_result"
    }
   ],
   "source": [
    "bronze_repo.branch(\"feat-new-cool-feature\").create(source_reference=\"main\")"
   ]
  },
  {
   "cell_type": "markdown",
   "id": "b9f8e94b",
   "metadata": {},
   "source": [
    "### Write single table to feature branch"
   ]
  },
  {
   "cell_type": "code",
   "execution_count": null,
   "id": "a61a71ec",
   "metadata": {},
   "outputs": [],
   "source": [
    "df = pl.DataFrame({\"foo\": [1,2,3,4,5], \"bar\": [\"delta-rs\", \"is\", \"pretty\",\"awesome\", \"ey\"]})\n",
    "df.write_delta(\n",
    "    \"lakefs://bronze/feat-new-cool-feature/deltars_magic\", \n",
    "    storage_options=storage_options,\n",
    ")"
   ]
  },
  {
   "cell_type": "markdown",
   "id": "37c179f8",
   "metadata": {},
   "source": [
    "### Optionally merge in `main` or keep work isolated only"
   ]
  },
  {
   "cell_type": "code",
   "execution_count": null,
   "id": "e9ba224e",
   "metadata": {},
   "outputs": [
    {
     "data": {
      "text/plain": [
       "'5ce7c702fc09959f5ade5594fab541570b2472adbe01eb0134236f592aa7ac85'"
      ]
     },
     "execution_count": 9,
     "metadata": {},
     "output_type": "execute_result"
    }
   ],
   "source": [
    "bronze_repo.branch(\"feat-new-cool-feature\").merge_into(\"main\")"
   ]
  }
 ],
 "metadata": {
  "kernelspec": {
   "display_name": ".venv",
   "language": "python",
   "name": "python3"
  },
  "language_info": {
   "codemirror_mode": {
    "name": "ipython",
    "version": 3
   },
   "file_extension": ".py",
   "mimetype": "text/x-python",
   "name": "python",
   "nbconvert_exporter": "python",
   "pygments_lexer": "ipython3",
   "version": "3.12.9"
  }
 },
 "nbformat": 4,
 "nbformat_minor": 5
}
